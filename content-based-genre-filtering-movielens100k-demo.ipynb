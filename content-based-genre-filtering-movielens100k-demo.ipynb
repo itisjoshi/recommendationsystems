{
 "cells": [
  {
   "cell_type": "code",
   "execution_count": 1,
   "metadata": {},
   "outputs": [],
   "source": [
    "import numpy as np\n",
    "import pandas as pd"
   ]
  },
  {
   "cell_type": "code",
   "execution_count": 2,
   "metadata": {},
   "outputs": [],
   "source": [
    "cols = ['mid', 'title' ,'mov-release-date','vid-release-date', \n",
    "        'imdb', 'unknown', 'action', 'adventure', 'animation', \n",
    "        'childrens', 'comedy', 'crime', 'documentary', 'drama', \n",
    "        'fantasy', 'film-noir', 'horror', 'musical', 'mystery', \n",
    "        'romance', 'sci-fi', 'thriller', 'war', 'western']\n",
    "item_df_details = pd.read_csv('ml-100k/u.item',\n",
    "                              sep='|', names=cols, index_col='mid', \n",
    "                              encoding='latin-1')\n",
    "item_df = item_df_details.drop(\n",
    "    ['mov-release-date','vid-release-date','imdb','title'], axis=1)"
   ]
  },
  {
   "cell_type": "code",
   "execution_count": 3,
   "metadata": {},
   "outputs": [],
   "source": [
    "from sklearn.metrics.pairwise import pairwise_distances\n",
    "item_dist = pairwise_distances(item_df, metric='hamming')\n",
    "item_sim = np.subtract(np.ones(item_dist.shape), item_dist)"
   ]
  },
  {
   "cell_type": "code",
   "execution_count": 4,
   "metadata": {},
   "outputs": [
    {
     "data": {
      "text/plain": [
       "array([[ 1.        ,  0.68421053,  0.78947368, ...,  0.73684211,\n",
       "         0.89473684,  0.78947368],\n",
       "       [ 0.68421053,  1.        ,  0.89473684, ...,  0.73684211,\n",
       "         0.78947368,  0.78947368],\n",
       "       [ 0.78947368,  0.89473684,  1.        , ...,  0.84210526,\n",
       "         0.89473684,  0.89473684],\n",
       "       ..., \n",
       "       [ 0.73684211,  0.73684211,  0.84210526, ...,  1.        ,\n",
       "         0.84210526,  0.94736842],\n",
       "       [ 0.89473684,  0.78947368,  0.89473684, ...,  0.84210526,\n",
       "         1.        ,  0.89473684],\n",
       "       [ 0.78947368,  0.78947368,  0.89473684, ...,  0.94736842,\n",
       "         0.89473684,  1.        ]])"
      ]
     },
     "execution_count": 4,
     "metadata": {},
     "output_type": "execute_result"
    }
   ],
   "source": [
    "item_sim"
   ]
  },
  {
   "cell_type": "code",
   "execution_count": 5,
   "metadata": {},
   "outputs": [
    {
     "data": {
      "text/plain": [
       "1.0"
      ]
     },
     "execution_count": 5,
     "metadata": {},
     "output_type": "execute_result"
    }
   ],
   "source": [
    "# toy-story and aladdin-and-the-king-of-thieves have the same genres, should have 1.0 similarity\n",
    "item_sim[0,421]"
   ]
  },
  {
   "cell_type": "code",
   "execution_count": 6,
   "metadata": {},
   "outputs": [],
   "source": [
    "cols = ['uid', 'mid', 'rating', 'timestamp']\n",
    "ratings_df = pd.read_csv('ml-100k/u.data', sep='\\t', names=cols)"
   ]
  },
  {
   "cell_type": "code",
   "execution_count": 7,
   "metadata": {},
   "outputs": [
    {
     "data": {
      "text/plain": [
       "uid                186\n",
       "mid                302\n",
       "rating               3\n",
       "timestamp    891717742\n",
       "Name: 1, dtype: int64"
      ]
     },
     "execution_count": 7,
     "metadata": {},
     "output_type": "execute_result"
    }
   ],
   "source": [
    "ratings_df.loc[1]"
   ]
  },
  {
   "cell_type": "code",
   "execution_count": 8,
   "metadata": {},
   "outputs": [],
   "source": [
    "# hierarchical index, so we can see all the movie ratings for a user \n",
    "ratings_df = ratings_df.set_index('uid','mid')"
   ]
  },
  {
   "cell_type": "code",
   "execution_count": 9,
   "metadata": {},
   "outputs": [],
   "source": [
    "def recommend(df, item_sim, uid):\n",
    "    user_watched = ratings_df.loc[uid].mid.tolist()\n",
    "    highest_sim = -1.0\n",
    "    most_sim = -1\n",
    "    for uid, mid in df.loc[uid][df.loc[uid].rating==5]['mid'].iteritems():\n",
    "        sim_items = item_sim[mid-1]\n",
    "        sim_items[mid-1] = 0.0\n",
    "        max_ix = np.argmax(sim_items)\n",
    "        if max_ix+1 in user_watched:\n",
    "            continue\n",
    "        if item_sim[mid-1,max_ix] > highest_sim:\n",
    "            highest_sim = item_sim[mid-1,max_ix]\n",
    "            most_sim = max_ix+1\n",
    "    return most_sim"
   ]
  },
  {
   "cell_type": "code",
   "execution_count": 11,
   "metadata": {},
   "outputs": [
    {
     "data": {
      "text/plain": [
       "'Manchurian Candidate, The (1962)'"
      ]
     },
     "execution_count": 11,
     "metadata": {},
     "output_type": "execute_result"
    }
   ],
   "source": [
    "uid = 200\n",
    "item_df_details.loc[recommend(ratings_df, item_sim, uid)].title"
   ]
  },
  {
   "cell_type": "code",
   "execution_count": null,
   "metadata": {},
   "outputs": [],
   "source": []
  }
 ],
 "metadata": {
  "kernelspec": {
   "display_name": "Python 3",
   "language": "python",
   "name": "python3"
  },
  "language_info": {
   "codemirror_mode": {
    "name": "ipython",
    "version": 3
   },
   "file_extension": ".py",
   "mimetype": "text/x-python",
   "name": "python",
   "nbconvert_exporter": "python",
   "pygments_lexer": "ipython3",
   "version": "3.6.3"
  }
 },
 "nbformat": 4,
 "nbformat_minor": 1
}
